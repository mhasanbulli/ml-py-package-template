{
  "cells": [
    {
      "cell_type": "markdown",
      "metadata": {},
      "source": [
        "# Getting Started with {{ cookiecutter.project_name }}\n",
        "\n",
        "This notebook demonstrates basic usage of the {{ cookiecutter.project_name }} package.\n"
      ]
    },
    {
      "cell_type": "code",
      "execution_count": null,
      "metadata": {},
      "outputs": [],
      "source": [
        "# Basic imports for data science\n",
        "import matplotlib.pyplot as plt\n",
        "import numpy as np\n",
        "import pandas as pd\n",
        "import seaborn as sns\n",
        "\n",
        "# Import the package\n",
        "import {{ cookiecutter.package_name }}\n",
        "\n",
        "# Set up plotting\n",
        "plt.style.use('default')\n",
        "sns.set_palette('husl')\n",
        "%matplotlib inline\n"
      ]
    },
    {
      "cell_type": "markdown",
      "metadata": {},
      "source": [
        "## Package Information\n"
      ]
    },
    {
      "cell_type": "code",
      "execution_count": null,
      "metadata": {},
      "outputs": [],
      "source": [
        "print(\"Package version:\", {{ cookiecutter.package_name }}.__version__)\n",
        "print(\"Author:\", {{ cookiecutter.package_name }}.__author__)\n"
      ]
    },
    {
      "cell_type": "markdown",
      "metadata": {},
      "source": [
        "## Basic Usage\n"
      ]
    },
    {
      "cell_type": "code",
      "execution_count": null,
      "metadata": {},
      "outputs": [],
      "source": [
        "# Run the main function\n",
        "{{ cookiecutter.package_name }}.main()\n"
      ]
    },
    {
      "cell_type": "markdown",
      "metadata": {},
      "source": [
        "## Example Data Analysis\n",
        "\n",
        "Here's a simple example of data analysis you might do in this notebook.\n"
      ]
    },
    {
      "cell_type": "code",
      "execution_count": null,
      "metadata": {},
      "outputs": [],
      "source": [
        "# Create some sample data\n",
        "np.random.seed(42)\n",
        "data = {\n",
        "    'x': np.random.randn(100),\n",
        "    'y': np.random.randn(100) * 2 + 1,\n",
        "    'category': np.random.choice(['A', 'B', 'C'], 100)\n",
        "}\n",
        "df = pd.DataFrame(data)\n",
        "df.head()\n"
      ]
    },
    {
      "cell_type": "code",
      "execution_count": null,
      "metadata": {},
      "outputs": [],
      "source": [
        "# Create a simple plot\n",
        "plt.figure(figsize=(10, 6))\n",
        "sns.scatterplot(data=df, x='x', y='y', hue='category')\n",
        "plt.title('Sample Data Visualisation')\n",
        "plt.show()\n"
      ]
    },
    {
      "cell_type": "markdown",
      "metadata": {},
      "source": [
        "## Research Dependencies\n",
        "\n",
        "This project includes optional dependencies for research and data science work. Here's how to install them:\n",
        "\n",
        "### Install notebook dependencies only:\n",
        "```bash\n",
        "uv add --extra notebooks -e .\n",
        "```\n",
        "\n",
        "### Install everything (development + notebooks):\n",
        "```bash\n",
        "uv add --all-extras -e .\n",
        "```\n",
        "\n",
        "### Available research packages:\n",
        "- **Jupyter & JupyterLab**: Interactive development environment\n",
        "- **matplotlib & seaborn**: Data visualisation\n",
        "- **plotly**: Interactive plots\n",
        "- **pandas & numpy**: Already available for data manipulation\n",
        "\n",
        "## Next Steps\n",
        "\n",
        "- Create notebooks for your specific research needs\n",
        "- Use descriptive names for your notebooks\n",
        "- Import your package with: `from {{ cookiecutter.package_name }} import ...`\n",
        "- Check the main package documentation for more advanced usage\n"
      ]
    }
  ],
  "metadata": {
    "language_info": {
      "name": "python"
    }
  },
  "nbformat": 4,
  "nbformat_minor": 2
}
